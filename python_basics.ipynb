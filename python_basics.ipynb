{
  "nbformat": 4,
  "nbformat_minor": 0,
  "metadata": {
    "colab": {
      "provenance": [],
      "authorship_tag": "ABX9TyMy3nLYmekjDKwVX7/7negC",
      "include_colab_link": true
    },
    "kernelspec": {
      "name": "python3",
      "display_name": "Python 3"
    },
    "language_info": {
      "name": "python"
    }
  },
  "cells": [
    {
      "cell_type": "markdown",
      "metadata": {
        "id": "view-in-github",
        "colab_type": "text"
      },
      "source": [
        "<a href=\"https://colab.research.google.com/github/gbsant/python_basics-awari/blob/main/python_basics.ipynb\" target=\"_parent\"><img src=\"https://colab.research.google.com/assets/colab-badge.svg\" alt=\"Open In Colab\"/></a>"
      ]
    },
    {
      "cell_type": "markdown",
      "source": [
        "# Sequencia de Fibonacci"
      ],
      "metadata": {
        "id": "g4FUGhgqd5DB"
      }
    },
    {
      "cell_type": "code",
      "source": [
        "# Sequencia de Fibonacci\n",
        "\n",
        "def fibonacci(n):\n",
        "    # Verificar se a entrada e valida\n",
        "    if n <= 0:\n",
        "        return []\n",
        "\n",
        "    # Inicializando a sequencia com os dois primeiros numeros\n",
        "    sequencia = [0, 1]\n",
        "\n",
        "    # Gerando a sequencia de Fibonacci\n",
        "    while len(sequencia) < n:\n",
        "        prox_num = sequencia[-1] + sequencia[-2]\n",
        "        sequencia.append(prox_num)\n",
        "    return sequencia"
      ],
      "metadata": {
        "id": "OlcnZ68KXSq8"
      },
      "execution_count": 8,
      "outputs": []
    },
    {
      "cell_type": "code",
      "source": [
        "# Gerando a sequencia de Fibonacci ate o numero 100\n",
        "n = 100\n",
        "fib_sequencia = fibonacci(n)\n",
        "print(fib_sequencia)"
      ],
      "metadata": {
        "colab": {
          "base_uri": "https://localhost:8080/"
        },
        "id": "fZp9h7U8d_Lr",
        "outputId": "31bf7f91-28d1-4389-c505-ac644132ad5d"
      },
      "execution_count": 9,
      "outputs": [
        {
          "output_type": "stream",
          "name": "stdout",
          "text": [
            "[0, 1, 1, 2, 3, 5, 8, 13, 21, 34, 55, 89, 144, 233, 377, 610, 987, 1597, 2584, 4181, 6765, 10946, 17711, 28657, 46368, 75025, 121393, 196418, 317811, 514229, 832040, 1346269, 2178309, 3524578, 5702887, 9227465, 14930352, 24157817, 39088169, 63245986, 102334155, 165580141, 267914296, 433494437, 701408733, 1134903170, 1836311903, 2971215073, 4807526976, 7778742049, 12586269025, 20365011074, 32951280099, 53316291173, 86267571272, 139583862445, 225851433717, 365435296162, 591286729879, 956722026041, 1548008755920, 2504730781961, 4052739537881, 6557470319842, 10610209857723, 17167680177565, 27777890035288, 44945570212853, 72723460248141, 117669030460994, 190392490709135, 308061521170129, 498454011879264, 806515533049393, 1304969544928657, 2111485077978050, 3416454622906707, 5527939700884757, 8944394323791464, 14472334024676221, 23416728348467685, 37889062373143906, 61305790721611591, 99194853094755497, 160500643816367088, 259695496911122585, 420196140727489673, 679891637638612258, 1100087778366101931, 1779979416004714189, 2880067194370816120, 4660046610375530309, 7540113804746346429, 12200160415121876738, 19740274219868223167, 31940434634990099905, 51680708854858323072, 83621143489848422977, 135301852344706746049, 218922995834555169026]\n"
          ]
        }
      ]
    },
    {
      "cell_type": "markdown",
      "source": [
        "#Fatoracao de 1024"
      ],
      "metadata": {
        "id": "KRHG79JCd9OE"
      }
    },
    {
      "cell_type": "code",
      "source": [
        "# Fatoracao\n",
        "\n",
        "def fatoracao(n):\n",
        "    fatores = []\n",
        "    i = 2\n",
        "    while i <= n:\n",
        "        if n % i == 0:\n",
        "            fatores.append(i)\n",
        "            n /= i\n",
        "        else:\n",
        "            i += 1\n",
        "    return fatores\n",
        "\n",
        "numero = 1024\n",
        "fatores = fatoracao(numero)\n",
        "print(f\"Os fatores de {numero} sao: {fatores}\")"
      ],
      "metadata": {
        "colab": {
          "base_uri": "https://localhost:8080/"
        },
        "id": "6Nhy4WjCeED9",
        "outputId": "591a5615-e882-4a6b-8818-764b6c184e5b"
      },
      "execution_count": 10,
      "outputs": [
        {
          "output_type": "stream",
          "name": "stdout",
          "text": [
            "Os fatores de 1024 sao: [2, 2, 2, 2, 2, 2, 2, 2, 2, 2]\n"
          ]
        }
      ]
    },
    {
      "cell_type": "markdown",
      "source": [
        "#Lista de frutas"
      ],
      "metadata": {
        "id": "Zb4xp5wKeIqT"
      }
    },
    {
      "cell_type": "code",
      "source": [
        "# lista de frutas\n",
        "frutas = ['bananas', 'maçãs', 'peras', 'uvas', 'laranjas']\n",
        "\n",
        "# loop para inserir uma fruta na lista ou encerrar o programa\n",
        "while True:\n",
        "    fruta = input(\"Digite o nome de uma fruta (ou 999 para encerrar): \")\n",
        "\n",
        "    if fruta == '999':\n",
        "        print(\"Encerrando o programa...\")\n",
        "        break\n",
        "\n",
        "    if fruta in frutas:\n",
        "        print(\"A fruta\", fruta, \"já está na lista!\")\n",
        "    else:\n",
        "        frutas.append(fruta)\n",
        "        print(\"A fruta\", fruta, \"foi adicionada à lista!\")\n",
        "\n",
        "print(\"Lista final de frutas:\", frutas)"
      ],
      "metadata": {
        "colab": {
          "base_uri": "https://localhost:8080/"
        },
        "id": "88ka3QbYeLOt",
        "outputId": "83b89cf5-b53b-45ed-e837-351a91a20d4d"
      },
      "execution_count": 11,
      "outputs": [
        {
          "output_type": "stream",
          "name": "stdout",
          "text": [
            "Digite o nome de uma fruta (ou 999 para encerrar): kiwi\n",
            "A fruta kiwi foi adicionada à lista!\n",
            "Digite o nome de uma fruta (ou 999 para encerrar): morango\n",
            "A fruta morango foi adicionada à lista!\n",
            "Digite o nome de uma fruta (ou 999 para encerrar): abacaxi\n",
            "A fruta abacaxi foi adicionada à lista!\n",
            "Digite o nome de uma fruta (ou 999 para encerrar): limao\n",
            "A fruta limao foi adicionada à lista!\n",
            "Digite o nome de uma fruta (ou 999 para encerrar): carambola\n",
            "A fruta carambola foi adicionada à lista!\n",
            "Digite o nome de uma fruta (ou 999 para encerrar): lichia\n",
            "A fruta lichia foi adicionada à lista!\n",
            "Digite o nome de uma fruta (ou 999 para encerrar): fruta do conde\n",
            "A fruta fruta do conde foi adicionada à lista!\n",
            "Digite o nome de uma fruta (ou 999 para encerrar): ameixa\n",
            "A fruta ameixa foi adicionada à lista!\n",
            "Digite o nome de uma fruta (ou 999 para encerrar): damasco\n",
            "A fruta damasco foi adicionada à lista!\n",
            "Digite o nome de uma fruta (ou 999 para encerrar): 999\n",
            "Encerrando o programa...\n",
            "Lista final de frutas: ['bananas', 'maçãs', 'peras', 'uvas', 'laranjas', 'kiwi', 'morango', 'abacaxi', 'limao', 'carambola', 'lichia', 'fruta do conde', 'ameixa', 'damasco']\n"
          ]
        }
      ]
    },
    {
      "cell_type": "code",
      "source": [
        "ata"
      ],
      "metadata": {
        "id": "XULQpkVGeOIC"
      },
      "execution_count": null,
      "outputs": []
    }
  ]
}