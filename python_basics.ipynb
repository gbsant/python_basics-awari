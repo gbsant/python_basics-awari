{
  "nbformat": 4,
  "nbformat_minor": 0,
  "metadata": {
    "colab": {
      "provenance": [],
      "authorship_tag": "ABX9TyMyu/7W2omGpbZqejQSV4KM",
      "include_colab_link": true
    },
    "kernelspec": {
      "name": "python3",
      "display_name": "Python 3"
    },
    "language_info": {
      "name": "python"
    }
  },
  "cells": [
    {
      "cell_type": "markdown",
      "metadata": {
        "id": "view-in-github",
        "colab_type": "text"
      },
      "source": [
        "<a href=\"https://colab.research.google.com/github/gbsant/python_basics-awari/blob/main/python_basics.ipynb\" target=\"_parent\"><img src=\"https://colab.research.google.com/assets/colab-badge.svg\" alt=\"Open In Colab\"/></a>"
      ]
    },
    {
      "cell_type": "markdown",
      "source": [
        "# Sequencia de Fibonacci"
      ],
      "metadata": {
        "id": "g4FUGhgqd5DB"
      }
    },
    {
      "cell_type": "code",
      "source": [
        "# Sequencia de Fibonacci\n",
        "\n",
        "def fibonacci(n):\n",
        "    # Verificar se a entrada e valida\n",
        "    if n <= 0:\n",
        "        return []\n",
        "\n",
        "    # Inicializando a sequencia com os dois primeiros numeros\n",
        "    sequencia = [0, 1]\n",
        "\n",
        "    # Gerando a sequencia de Fibonacci\n",
        "    while len(sequencia) < n:\n",
        "        prox_num = sequencia[-1] + sequencia[-2]\n",
        "        sequencia.append(prox_num)\n",
        "    return sequencia"
      ],
      "metadata": {
        "id": "OlcnZ68KXSq8"
      },
      "execution_count": 8,
      "outputs": []
    },
    {
      "cell_type": "code",
      "source": [
        "# Gerando a sequencia de Fibonacci ate o numero 100\n",
        "n = 100\n",
        "fib_sequencia = fibonacci(n)\n",
        "print(fib_sequencia)"
      ],
      "metadata": {
        "id": "fZp9h7U8d_Lr"
      },
      "execution_count": null,
      "outputs": []
    },
    {
      "cell_type": "markdown",
      "source": [
        "#Fatoracao de 1024"
      ],
      "metadata": {
        "id": "KRHG79JCd9OE"
      }
    },
    {
      "cell_type": "code",
      "source": [
        "# Fatoracao\n",
        "\n",
        "def fatoracao(n):\n",
        "    fatores = []\n",
        "    i = 2\n",
        "    while i <= n:\n",
        "        if n % i == 0:\n",
        "            fatores.append(i)\n",
        "            n /= i\n",
        "        else:\n",
        "            i += 1\n",
        "    return fatores\n",
        "\n",
        "numero = 1024\n",
        "fatores = fatoracao(numero)\n",
        "print(f\"Os fatores de {numero} sao: {fatores}\")"
      ],
      "metadata": {
        "id": "6Nhy4WjCeED9"
      },
      "execution_count": null,
      "outputs": []
    },
    {
      "cell_type": "markdown",
      "source": [
        "#Lista de frutas"
      ],
      "metadata": {
        "id": "Zb4xp5wKeIqT"
      }
    },
    {
      "cell_type": "code",
      "source": [
        "# lista de frutas\n",
        "frutas = ['bananas', 'maçãs', 'peras', 'uvas', 'laranjas']\n",
        "\n",
        "# loop para inserir uma fruta na lista ou encerrar o programa\n",
        "while True:\n",
        "    fruta = input(\"Digite o nome de uma fruta (ou 999 para encerrar): \")\n",
        "\n",
        "    if fruta == '999':\n",
        "        print(\"Encerrando o programa...\")\n",
        "        break\n",
        "\n",
        "    if fruta in frutas:\n",
        "        print(\"A fruta\", fruta, \"já está na lista!\")\n",
        "    else:\n",
        "        frutas.append(fruta)\n",
        "        print(\"A fruta\", fruta, \"foi adicionada à lista!\")\n",
        "\n",
        "print(\"Lista final de frutas:\", frutas)"
      ],
      "metadata": {
        "id": "88ka3QbYeLOt"
      },
      "execution_count": null,
      "outputs": []
    }
  ]
}